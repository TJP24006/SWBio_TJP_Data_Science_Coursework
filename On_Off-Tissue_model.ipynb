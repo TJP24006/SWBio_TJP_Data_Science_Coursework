{
 "cells": [
  {
   "cell_type": "markdown",
   "id": "3b5a0a8e-e09b-481b-9a82-40bbb3cec2fa",
   "metadata": {},
   "source": [
    "# Install packages"
   ]
  },
  {
   "cell_type": "code",
   "execution_count": 10,
   "id": "a7aa03f5-878a-4a6a-a08c-2c9139b02c64",
   "metadata": {},
   "outputs": [],
   "source": [
    "import pandas as pd\n",
    "from sklearn.model_selection import train_test_split\n",
    "from sklearn.neighbors import KNeighborsClassifier\n",
    "from sklearn.metrics import accuracy_score, confusion_matrix, classification_report\n",
    "from sklearn.preprocessing import StandardScaler"
   ]
  },
  {
   "cell_type": "markdown",
   "id": "418b55e2-d7a2-4b10-9c74-bef532300bdd",
   "metadata": {},
   "source": [
    "## pandas required to import data, sklearn functions required to build and evaluate KNN model"
   ]
  },
  {
   "cell_type": "markdown",
   "id": "9de97428-896c-4c9f-a7c5-f635537c6e52",
   "metadata": {},
   "source": [
    "# Import data and data cleaning"
   ]
  },
  {
   "cell_type": "code",
   "execution_count": 16,
   "id": "eeb8716f-4cde-4708-8d17-c850639f3d80",
   "metadata": {},
   "outputs": [
    {
     "name": "stdout",
     "output_type": "stream",
     "text": [
      "                                            FileName       DesArea  \\\n",
      "0  TJP_240816_EDI_24m_AGED_622-9-2-B_16x10grid_GP...  220033.19230   \n",
      "1  TJP_240816_EDI_24m_AGED_622-9-2-B_16x10grid_GP...       0.00000   \n",
      "2  TJP_240816_EDI_24m_AGED_622-9-2-B_16x10grid_GP...       0.00000   \n",
      "3  TJP_240816_EDI_24m_AGED_622-9-2-B_16x10grid_GP...   50214.28345   \n",
      "4  TJP_240816_EDI_24m_AGED_622-9-2-B_16x10grid_GP...  150516.47850   \n",
      "\n",
      "      DesD6Area      CholArea    CholD7Area     24SHCArea  24R_S_HCD7Area  \\\n",
      "0  109426.99560  2.053408e+07  9.042325e+06  114826.84760    6.010928e+05   \n",
      "1   35389.12759  1.317173e+08  4.208862e+07  459706.28470    2.709585e+06   \n",
      "2       0.00000  6.650995e+05  2.502280e+05       0.00000    0.000000e+00   \n",
      "3   36653.24291  2.618260e+07  6.129946e+06   40081.15937    1.103619e+05   \n",
      "4  300015.17520  1.127066e+08  2.730315e+07   83841.18994    2.343564e+05   \n",
      "\n",
      "  On_OffTissue  \n",
      "0    OffTissue  \n",
      "1    OffTissue  \n",
      "2    OffTissue  \n",
      "3    OffTissue  \n",
      "4    OffTissue  \n"
     ]
    }
   ],
   "source": [
    "df = pd.read_csv('data/LESAPeakArea.csv')\n",
    "#importing data to datafram or df\n",
    "print(df.head())\n",
    "#to see structure of the data"
   ]
  },
  {
   "cell_type": "code",
   "execution_count": 25,
   "id": "72bba2a1-8b46-45b3-a23a-5411160d4e11",
   "metadata": {},
   "outputs": [],
   "source": [
    "data.fillna(0, inplace=True) #Removes the NaN values\n",
    "data.to_csv('data/cleaned_LESAPeakdata.csv', index=False) #creates new cleaned dataset"
   ]
  },
  {
   "cell_type": "markdown",
   "id": "1eaccea9-4aea-4781-96dd-1c81d1663eca",
   "metadata": {},
   "source": [
    "## dataset features NaN which describes when the acquisition programme finds no peak for a given chemical. As this means the value of the chemical in the sample is 0, part of the data cleaning steps is to convert all 'NaN' values to 0s."
   ]
  },
  {
   "cell_type": "code",
   "execution_count": null,
   "id": "a638c7c6-597c-4bc3-ac97-b24ba431ca72",
   "metadata": {},
   "outputs": [],
   "source": []
  }
 ],
 "metadata": {
  "kernelspec": {
   "display_name": "Python 3 (ipykernel)",
   "language": "python",
   "name": "python3"
  },
  "language_info": {
   "codemirror_mode": {
    "name": "ipython",
    "version": 3
   },
   "file_extension": ".py",
   "mimetype": "text/x-python",
   "name": "python",
   "nbconvert_exporter": "python",
   "pygments_lexer": "ipython3",
   "version": "3.12.7"
  }
 },
 "nbformat": 4,
 "nbformat_minor": 5
}
